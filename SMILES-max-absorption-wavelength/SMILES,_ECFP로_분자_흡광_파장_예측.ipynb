{
  "nbformat": 4,
  "nbformat_minor": 0,
  "metadata": {
    "colab": {
      "provenance": []
    },
    "kernelspec": {
      "name": "python3",
      "display_name": "Python 3"
    },
    "language_info": {
      "name": "python"
    },
    "accelerator": "GPU",
    "gpuClass": "standard"
  },
  "cells": [
    {
      "cell_type": "markdown",
      "source": [
        "Reference : https://pubs.acs.org/doi/full/10.1021/jacsau.1c00035\n",
        "\n",
        "            강원대 이주용 교수님 인공지능과 화학"
      ],
      "metadata": {
        "id": "XYkOlTgN4fN_"
      }
    },
    {
      "cell_type": "code",
      "execution_count": null,
      "metadata": {
        "colab": {
          "base_uri": "https://localhost:8080/"
        },
        "id": "upa-JtGBl5nz",
        "outputId": "383ba46f-96b2-431f-8d54-b40ffe25464d"
      },
      "outputs": [
        {
          "output_type": "stream",
          "name": "stdout",
          "text": [
            "Mounted at /content/drive\n"
          ]
        }
      ],
      "source": [
        "from google.colab import drive\n",
        "drive.mount('/content/drive', force_remount=True)"
      ]
    },
    {
      "cell_type": "code",
      "source": [
        "!pip install -q condacolab\n",
        "import condacolab\n",
        "condacolab.install()"
      ],
      "metadata": {
        "colab": {
          "base_uri": "https://localhost:8080/"
        },
        "id": "YiVy6WFTmNe9",
        "outputId": "7e354afe-723a-4e23-a4fc-5f8a63d3906d"
      },
      "execution_count": null,
      "outputs": [
        {
          "output_type": "stream",
          "name": "stdout",
          "text": [
            "⏬ Downloading https://github.com/jaimergp/miniforge/releases/latest/download/Mambaforge-colab-Linux-x86_64.sh...\n",
            "📦 Installing...\n",
            "📌 Adjusting configuration...\n",
            "🩹 Patching environment...\n",
            "⏲ Done in 0:00:23\n",
            "🔁 Restarting kernel...\n"
          ]
        }
      ]
    },
    {
      "cell_type": "code",
      "source": [
        "import condacolab\n",
        "condacolab.check()"
      ],
      "metadata": {
        "id": "R4IzfLsumfE9"
      },
      "execution_count": null,
      "outputs": []
    },
    {
      "cell_type": "code",
      "source": [
        "! conda create -n Smiles\n",
        "! activate Smiles "
      ],
      "metadata": {
        "colab": {
          "base_uri": "https://localhost:8080/"
        },
        "id": "hnczdl1qmgIU",
        "outputId": "e50e58f9-dd49-4d5b-fdc3-f72552cfaeee"
      },
      "execution_count": null,
      "outputs": [
        {
          "output_type": "stream",
          "name": "stdout",
          "text": [
            "Collecting package metadata (current_repodata.json): - \b\b\\ \b\b| \b\b/ \b\b- \b\b\\ \b\b| \b\bdone\n",
            "Solving environment: - \b\bdone\n",
            "\n",
            "\n",
            "==> WARNING: A newer version of conda exists. <==\n",
            "  current version: 22.9.0\n",
            "  latest version: 23.1.0\n",
            "\n",
            "Please update conda by running\n",
            "\n",
            "    $ conda update -n base -c conda-forge conda\n",
            "\n",
            "\n",
            "\n",
            "## Package Plan ##\n",
            "\n",
            "  environment location: /usr/local/envs/Smiles\n",
            "\n",
            "\n",
            "\n",
            "Preparing transaction: | \b\bdone\n",
            "Verifying transaction: - \b\bdone\n",
            "Executing transaction: | \b\bdone\n",
            "#\n",
            "# To activate this environment, use\n",
            "#\n",
            "#     $ conda activate Smiles\n",
            "#\n",
            "# To deactivate an active environment, use\n",
            "#\n",
            "#     $ conda deactivate\n",
            "\n",
            "Retrieving notices: ...working... done\n"
          ]
        }
      ]
    },
    {
      "cell_type": "code",
      "source": [
        "import numpy as np\n",
        "import pandas as pd\n",
        "import matplotlib.pyplot as plt\n",
        "import seaborn as sns\n",
        "from tqdm import tqdm # tqdm : 진행상황을 progress bar로 시각화 한 라이브러리"
      ],
      "metadata": {
        "id": "knehDXbHmoG0"
      },
      "execution_count": null,
      "outputs": []
    },
    {
      "cell_type": "code",
      "source": [
        "!mamba install -c conda-forge rdkit\n",
        "\n",
        "import rdkit\n",
        "import rdkit.Chem\n",
        "from rdkit.Chem import AllChem"
      ],
      "metadata": {
        "colab": {
          "base_uri": "https://localhost:8080/"
        },
        "id": "73-rmS78mqME",
        "outputId": "9855fd3d-e29b-4d76-8a24-cb61efd73044"
      },
      "execution_count": null,
      "outputs": [
        {
          "output_type": "stream",
          "name": "stdout",
          "text": [
            "\n",
            "                  __    __    __    __\n",
            "                 /  \\  /  \\  /  \\  /  \\\n",
            "                /    \\/    \\/    \\/    \\\n",
            "███████████████/  /██/  /██/  /██/  /████████████████████████\n",
            "              /  / \\   / \\   / \\   / \\  \\____\n",
            "             /  /   \\_/   \\_/   \\_/   \\    o \\__,\n",
            "            / _/                       \\_____/  `\n",
            "            |/\n",
            "        ███╗   ███╗ █████╗ ███╗   ███╗██████╗  █████╗\n",
            "        ████╗ ████║██╔══██╗████╗ ████║██╔══██╗██╔══██╗\n",
            "        ██╔████╔██║███████║██╔████╔██║██████╔╝███████║\n",
            "        ██║╚██╔╝██║██╔══██║██║╚██╔╝██║██╔══██╗██╔══██║\n",
            "        ██║ ╚═╝ ██║██║  ██║██║ ╚═╝ ██║██████╔╝██║  ██║\n",
            "        ╚═╝     ╚═╝╚═╝  ╚═╝╚═╝     ╚═╝╚═════╝ ╚═╝  ╚═╝\n",
            "\n",
            "        mamba (1.0.0) supported by @QuantStack\n",
            "\n",
            "        GitHub:  https://github.com/mamba-org/mamba\n",
            "        Twitter: https://twitter.com/QuantStack\n",
            "\n",
            "█████████████████████████████████████████████████████████████\n",
            "\n",
            "\n",
            "Looking for: ['rdkit']\n",
            "\n",
            "conda-forge/linux-64                                        Using cache\n",
            "conda-forge/noarch                                          Using cache\n",
            "\n",
            "Pinned packages:\n",
            "  - python 3.8.*\n",
            "  - python 3.8.*\n",
            "  - python_abi 3.8.* *cp38*\n",
            "  - cudatoolkit 11.8.*\n",
            "\n",
            "\n",
            "Transaction\n",
            "\n",
            "  Prefix: /usr/local\n",
            "\n",
            "  All requested packages already installed\n",
            "\n",
            "\u001b[?25l\u001b[2K\u001b[0G\u001b[?25h"
          ]
        }
      ]
    },
    {
      "cell_type": "code",
      "source": [
        "\n",
        "# Tag,Chromophore,Solvent,Absorption max (nm),Emission max (nm),Lifetime (ns),Quantum yield,log(e/mol-1 dm3 cm-1),abs FWHM (cm-1),emi FWHM (cm-1),abs FWHM (nm),emi FWHM (nm),Molecular weight (g mol-1),Reference\n",
        "# ['1', 'N#Cc1cc2ccc(O)cc2oc1=O', 'O', '355', '410', '2.804262479', 'NaN', 'NaN', 'NaN', 'NaN', 'NaN', 'NaN', '187.1537', 'DOI: 10.1021/acs.jpcb.5b09905']\n",
        "# dat[2] : Solvent\n",
        "# dat[3] : Absorption Max (nm)\n",
        "smiles = []\n",
        "abs_max_list = []\n",
        "path = '/content/drive/MyDrive/Colab Notebooks/인공지능 공부/Portfolio/DB for chromophore_Sci_Data_rev02.csv의 사본'\n",
        "\n",
        "for l in tqdm(open(path).readlines()[1:]) : \n",
        "    dat = l.strip().split(',')\n",
        "    # dat[2] =='ClCCl' :  Dichlorometyl을 solvent로 하는 분자 데이터가 가장 많고, \n",
        "    # dat[3] != 'NaN' : 최대 흡광 파장을 예측하는 모델을 만들 것이기 때문에 데이터가 없는 라인은 skip\n",
        "    if dat[2] =='ClCCl' and dat[3] != 'NaN' : #select the cases where solvent is dichloromethane.\n",
        "        # dat[1] : SMILES 표기식\n",
        "        smiles.append(dat[1]) \n",
        "        # 최대 흡광파장을 저장\n",
        "        abs_max_list.append(float(dat[3]))\n",
        "\n",
        "print()\n",
        "print(f'Number of SMILES strings : {len(smiles)}')\n",
        "print(f'Number of Abs_Max : {len(abs_max_list)}')"
      ],
      "metadata": {
        "colab": {
          "base_uri": "https://localhost:8080/"
        },
        "id": "0-OAb1YRniFd",
        "outputId": "74e560f7-d1a8-455d-a751-d028756e51bb"
      },
      "execution_count": null,
      "outputs": [
        {
          "output_type": "stream",
          "name": "stderr",
          "text": [
            "100%|██████████| 20236/20236 [00:00<00:00, 684472.31it/s]"
          ]
        },
        {
          "output_type": "stream",
          "name": "stdout",
          "text": [
            "\n",
            "Number of SMILES strings : 2429\n",
            "Number of Abs_Max : 2429\n"
          ]
        },
        {
          "output_type": "stream",
          "name": "stderr",
          "text": [
            "\n"
          ]
        }
      ]
    },
    {
      "cell_type": "code",
      "source": [
        "import torch\n",
        "import torch.nn as nn\n",
        "import torch.nn.functional as F\n",
        "from torch import optim\n",
        "\n",
        "from torch.utils.data import DataLoader\n",
        "from torch.utils.data import TensorDataset, Dataset\n",
        "from sklearn.model_selection import train_test_split\n",
        "\n",
        "torch.manual_seed(52)"
      ],
      "metadata": {
        "colab": {
          "base_uri": "https://localhost:8080/"
        },
        "id": "KwjS_AuwnrV0",
        "outputId": "8f2a5482-3820-4414-e4bb-b8c9b962c418"
      },
      "execution_count": null,
      "outputs": [
        {
          "output_type": "execute_result",
          "data": {
            "text/plain": [
              "<torch._C.Generator at 0x7faa5fc77ab0>"
            ]
          },
          "metadata": {},
          "execution_count": 15
        }
      ]
    },
    {
      "cell_type": "code",
      "source": [
        "X = []\n",
        "for smi in tqdm(smiles) : \n",
        "    mol = rdkit.Chem.MolFromSmiles(smi)\n",
        "    vec = AllChem.GetMorganFingerprintAsBitVect(mol, 2, nBits= 1024)\n",
        "    X.append(vec.ToList())\n",
        "\n",
        "# mol, 2=radius (중심원자로부터 2번 떨어진 거리 만큼을 functional group으로 취급), nBits=1024 : 1024개의 0과 1개로 표현\n"
      ],
      "metadata": {
        "colab": {
          "base_uri": "https://localhost:8080/"
        },
        "id": "opgSQYLbn-ot",
        "outputId": "cbc1ee67-b0a2-4d44-823a-fce46fcbdd40"
      },
      "execution_count": null,
      "outputs": [
        {
          "output_type": "stream",
          "name": "stderr",
          "text": [
            "100%|██████████| 2429/2429 [00:01<00:00, 1354.22it/s]\n"
          ]
        }
      ]
    },
    {
      "cell_type": "code",
      "source": [
        "X = torch.Tensor(X)\n",
        "y = torch.Tensor(abs_max_list).view(-1, 1)\n",
        "print(X.shape, y.shape)"
      ],
      "metadata": {
        "colab": {
          "base_uri": "https://localhost:8080/"
        },
        "id": "0y4l6aFxogpM",
        "outputId": "81d2c393-60f0-49ec-e3fb-e96b657b851c"
      },
      "execution_count": null,
      "outputs": [
        {
          "output_type": "stream",
          "name": "stdout",
          "text": [
            "torch.Size([2429, 1024]) torch.Size([2429, 1])\n"
          ]
        }
      ]
    },
    {
      "cell_type": "code",
      "source": [
        "device = torch.device(\"cuda:0\" if torch.cuda.is_available() else \"cpu\")\n",
        "device"
      ],
      "metadata": {
        "colab": {
          "base_uri": "https://localhost:8080/"
        },
        "id": "fucArxfRohs1",
        "outputId": "613c76be-b957-4865-fd79-bac2d0309af2"
      },
      "execution_count": null,
      "outputs": [
        {
          "output_type": "execute_result",
          "data": {
            "text/plain": [
              "device(type='cuda', index=0)"
            ]
          },
          "metadata": {},
          "execution_count": 40
        }
      ]
    },
    {
      "cell_type": "code",
      "source": [
        "batch_size = 64\n",
        "lr = 1e-3\n",
        "weight_decay = 1e-5\n",
        "epochs = 1000\n",
        "\n",
        "x_train, x_test, y_train, y_test = train_test_split(X, y, test_size=0.2, random_state=52)\n",
        "x_train, x_val, y_train, y_val = train_test_split(x_train, y_train, test_size=0.1, random_state=52)\n",
        "\n",
        "train_dataset = TensorDataset(x_train, y_train)\n",
        "train_dataloader = DataLoader(train_dataset, batch_size, shuffle=True, drop_last = True)\n",
        "\n",
        "val_dataset = TensorDataset(x_val, y_val)\n",
        "val_dataloader = DataLoader(val_dataset, batch_size, shuffle=False, drop_last = True)\n",
        "\n",
        "test_dataset = TensorDataset(x_test, y_test)\n",
        "test_dataloader = DataLoader(test_dataset, batch_size, shuffle=False)"
      ],
      "metadata": {
        "id": "IOqW_xDaoqVV"
      },
      "execution_count": null,
      "outputs": []
    },
    {
      "cell_type": "code",
      "source": [
        "class CustomModel(nn.Module) : \n",
        "    def __init__(self, initial=1024, hd1=256, hd2=128, hd3=32, output=1) : \n",
        "        super(CustomModel, self).__init__()\n",
        "        self.linear_stack = nn.Sequential(\n",
        "\n",
        "            nn.Linear(initial, hd1),\n",
        "            nn.BatchNorm1d(hd1),\n",
        "            nn.GELU(),\n",
        "            nn.Dropout(0.5),\n",
        "            \n",
        "            nn.Linear(hd1, hd1),\n",
        "            nn.BatchNorm1d(hd1),\n",
        "            nn.GELU(),\n",
        "            nn.Dropout(0.5),\n",
        "                        \n",
        "            nn.Linear(hd1, hd2),\n",
        "            nn.BatchNorm1d(hd2),\n",
        "            nn.GELU(),\n",
        "            nn.Dropout(0.5),\n",
        "                        \n",
        "            nn.Linear(hd2, hd2),\n",
        "            nn.BatchNorm1d(hd2),\n",
        "            nn.GELU(),\n",
        "            nn.Dropout(0.5),\n",
        "                        \n",
        "            nn.Linear(hd2, hd3),\n",
        "            nn.BatchNorm1d(hd3),\n",
        "            nn.GELU(),\n",
        "            nn.Dropout(0.2),\n",
        "            \n",
        "            nn.Linear(hd3, output)\n",
        "        )\n",
        "\n",
        "    def forward(self, x) : \n",
        "        return self.linear_stack(x)"
      ],
      "metadata": {
        "id": "cYvQEDkBqPQl"
      },
      "execution_count": null,
      "outputs": []
    },
    {
      "cell_type": "code",
      "source": [
        "class DNN() : \n",
        "    def __init__(self, batch_size, model, loss_fn, optimizer) : \n",
        "        self.batch_size = batch_size\n",
        "        self.model = model\n",
        "        self.loss_fn = loss_fn\n",
        "        self.optimizer = optimizer\n",
        "\n",
        "    def train(self, epochs, train_dataloader, val_dataloader, period=100) : \n",
        "        train_loss_list = []\n",
        "        val_loss_list = []\n",
        "\n",
        "        for epoch in range(1, epochs + 1) : \n",
        "            epoch_train_loss = 0\n",
        "\n",
        "            for X, y in train_dataloader : \n",
        "                X, y = X.to(device), y.to(device)\n",
        "\n",
        "                pred = self.model(X)\n",
        "                train_loss = self.loss_fn(pred, y)\n",
        "\n",
        "                self.optimizer.zero_grad()\n",
        "                train_loss.backward()\n",
        "                self.optimizer.step()\n",
        "\n",
        "                epoch_train_loss += train_loss.item()\n",
        "\n",
        "\n",
        "            self.model.eval()\n",
        "            epoch_val_loss = 0\n",
        "\n",
        "            with torch.no_grad() : \n",
        "                for X, y in val_dataloader : \n",
        "                    X, y = X.to(device), y.to(device)\n",
        "\n",
        "                    pred = self.model(X)\n",
        "                    val_loss = self.loss_fn(pred, y)\n",
        "\n",
        "                    epoch_val_loss += val_loss.item()\n",
        "\n",
        "            epoch_train_loss /= len(train_dataloader)\n",
        "            epoch_val_loss /= len(val_dataloader)\n",
        "\n",
        "            train_loss_list.append(epoch_train_loss)\n",
        "            val_loss_list.append(epoch_val_loss)\n",
        "\n",
        "            if epoch % period == 0 : \n",
        "                print(f'Epoch  {epoch} / {epochs} \\t\\t train_loss : {epoch_train_loss:.4f} \\t\\t val_loss : {epoch_val_loss:.4f}')\n",
        "        \n",
        "        return train_loss_list, val_loss_list\n",
        "\n",
        "\n",
        "    def test(self, test_dataloader) : \n",
        "        loss = 0\n",
        "\n",
        "        self.model.eval()\n",
        "\n",
        "        for X, y in test_dataloader : \n",
        "            X, y = X.to(device), y.to(device)\n",
        "\n",
        "            pred = self.model(X)\n",
        "            test_loss = self.loss_fn(pred, y)\n",
        "\n",
        "            loss += test_loss\n",
        "\n",
        "        loss /= len(test_dataloader)\n",
        "        print(f'Test Loss : {loss:.4f}')"
      ],
      "metadata": {
        "id": "gJBYlCyXrGwG"
      },
      "execution_count": null,
      "outputs": []
    },
    {
      "cell_type": "code",
      "source": [
        "model = CustomModel().to(device)\n",
        "optimizer = optim.Adam(model.parameters(), lr=lr, weight_decay=weight_decay)\n",
        "loss_fn = nn.MSELoss()\n",
        "\n",
        "trial = DNN(batch_size, model, loss_fn, optimizer)"
      ],
      "metadata": {
        "id": "mz_duCH3vD9d"
      },
      "execution_count": null,
      "outputs": []
    },
    {
      "cell_type": "code",
      "source": [
        "train_loss_list, val_loss_list = trial.train(epochs, train_dataloader, val_dataloader, period=100)"
      ],
      "metadata": {
        "colab": {
          "base_uri": "https://localhost:8080/"
        },
        "id": "tSwxTqHYvdpu",
        "outputId": "c6aace74-02db-466e-cb85-45cbfe631e06"
      },
      "execution_count": null,
      "outputs": [
        {
          "output_type": "stream",
          "name": "stdout",
          "text": [
            "Epoch  100 / 1000 \t\t train_loss : 60.8401 \t\t val_loss : 1391.6101\n",
            "Epoch  200 / 1000 \t\t train_loss : 41.9253 \t\t val_loss : 1232.6694\n",
            "Epoch  300 / 1000 \t\t train_loss : 29.7621 \t\t val_loss : 1294.1014\n",
            "Epoch  400 / 1000 \t\t train_loss : 23.2515 \t\t val_loss : 1295.3495\n",
            "Epoch  500 / 1000 \t\t train_loss : 18.1363 \t\t val_loss : 1300.9361\n",
            "Epoch  600 / 1000 \t\t train_loss : 17.9219 \t\t val_loss : 1304.3878\n",
            "Epoch  700 / 1000 \t\t train_loss : 17.9883 \t\t val_loss : 1302.9040\n",
            "Epoch  800 / 1000 \t\t train_loss : 36.1946 \t\t val_loss : 1289.1282\n",
            "Epoch  900 / 1000 \t\t train_loss : 15.3604 \t\t val_loss : 1308.5284\n",
            "Epoch  1000 / 1000 \t\t train_loss : 31.3662 \t\t val_loss : 1361.8464\n"
          ]
        }
      ]
    },
    {
      "cell_type": "code",
      "source": [
        "def loss_graph(epochs, train_loss_list, val_loss_list) : \n",
        "    epoch_count = range(epochs)\n",
        "\n",
        "    plt.plot(epoch_count, train_loss_list, label='Train Loss')\n",
        "    plt.plot(epoch_count, val_loss_list, label='Val Loss')\n",
        "    plt.title('Loss Curves')\n",
        "    plt.ylabel('Loss')\n",
        "    plt.xlabel('Epochs')\n",
        "    plt.legend()"
      ],
      "metadata": {
        "id": "xbMJIpRnvorN"
      },
      "execution_count": null,
      "outputs": []
    },
    {
      "cell_type": "code",
      "source": [
        "#과적합\n",
        "loss_graph(epochs-10, train_loss_list[10:], val_loss_list[10:])"
      ],
      "metadata": {
        "colab": {
          "base_uri": "https://localhost:8080/",
          "height": 295
        },
        "id": "CG5DQJYWzhrl",
        "outputId": "295ad92e-cb27-4e92-c3d9-0c3a05262fc0"
      },
      "execution_count": null,
      "outputs": [
        {
          "output_type": "display_data",
          "data": {
            "text/plain": [
              "<Figure size 432x288 with 1 Axes>"
            ],
            "image/png": "[encoded data removed]"
          },
          "metadata": {
            "needs_background": "light"
          }
        }
      ]
    },
    {
      "cell_type": "code",
      "source": [
        "trial.test(test_dataloader)"
      ],
      "metadata": {
        "colab": {
          "base_uri": "https://localhost:8080/"
        },
        "id": "omDjl_VMzvvW",
        "outputId": "98affe0f-d48e-4c32-8013-f31005ca19b7"
      },
      "execution_count": null,
      "outputs": [
        {
          "output_type": "stream",
          "name": "stdout",
          "text": [
            "Test Loss : 1302.8132\n"
          ]
        }
      ]
    },
    {
      "cell_type": "code",
      "source": [
        "preds = model(x_test.to(device)).cpu().view(-1).detach().numpy()\n",
        "y_true = y_test.view(-1).detach().numpy()\n",
        "print(preds.shape, y_true.shape)"
      ],
      "metadata": {
        "colab": {
          "base_uri": "https://localhost:8080/"
        },
        "id": "fIf-JQIu0KQ2",
        "outputId": "19cd5f6f-e01d-4d88-fdd9-ae9284b636c9"
      },
      "execution_count": null,
      "outputs": [
        {
          "output_type": "stream",
          "name": "stdout",
          "text": [
            "(486,) (486,)\n"
          ]
        }
      ]
    },
    {
      "cell_type": "code",
      "source": [
        "plt.xlabel('Experimental')\n",
        "plt.ylabel('prediction')\n",
        "\n",
        "line = [200, 800]\n",
        "\n",
        "plt.scatter(y_true, preds)\n",
        "plt.plot(line, line, 'r--')"
      ],
      "metadata": {
        "colab": {
          "base_uri": "https://localhost:8080/",
          "height": 297
        },
        "id": "BodCq0mK0nGO",
        "outputId": "dd45c384-6d7f-45ae-eee0-2dcc72c3aa9b"
      },
      "execution_count": 92,
      "outputs": [
        {
          "output_type": "execute_result",
          "data": {
            "text/plain": [
              "[<matplotlib.lines.Line2D at 0x7fa9dd163e80>]"
            ]
          },
          "metadata": {},
          "execution_count": 92
        },
        {
          "output_type": "display_data",
          "data": {
            "text/plain": [
              "<Figure size 432x288 with 1 Axes>"
            ],
            "image/png": "[encoded data removed]"
          },
          "metadata": {
            "needs_background": "light"
          }
        }
      ]
    },
    {
      "cell_type": "code",
      "source": [
        "corr = np.corrcoef(preds, y_true)\n",
        "print(f'Correlation of prediction & Experimental data : {corr[0][1]*100:.2f} %')"
      ],
      "metadata": {
        "colab": {
          "base_uri": "https://localhost:8080/"
        },
        "id": "BKNEQrC_0r-m",
        "outputId": "c381dd16-6d65-46e7-b0e6-63236a46e006"
      },
      "execution_count": null,
      "outputs": [
        {
          "output_type": "stream",
          "name": "stdout",
          "text": [
            "Correlation of prediction & Experimental data : 93.09 %\n"
          ]
        }
      ]
    },
    {
      "cell_type": "code",
      "source": [
        "from pathlib import Path\n",
        "\n",
        "#모델을 저장하기위한 경로 설정 \n",
        "MODEL_PATH = Path(\"models\")\n",
        "MODEL_PATH.mkdir(parents=True, exist_ok=True)\n",
        "\n",
        "#모델을 해당 위치에 저장하기위한 경로, 이름 설정\n",
        "MODEL_NAME = \"ECFP_absmax_model.pth\"\n",
        "MODEL_SAVE_PATH = MODEL_PATH / MODEL_NAME\n",
        "\n",
        "# 3. Save the model state dict \n",
        "print(f\"모델 저장 위치와 파일명: {MODEL_SAVE_PATH}\")\n",
        "torch.save(obj=model.state_dict(), # only saving the state_dict() only saves the models learned parameters\n",
        "           f=MODEL_SAVE_PATH)"
      ],
      "metadata": {
        "colab": {
          "base_uri": "https://localhost:8080/"
        },
        "id": "Z2QBPN7m1p5-",
        "outputId": "42832b81-c9ab-466a-c7d0-dc94f7d6eef9"
      },
      "execution_count": null,
      "outputs": [
        {
          "output_type": "stream",
          "name": "stdout",
          "text": [
            "모델 저장 위치와 파일명: models/ECFP_absmax_model.pth\n"
          ]
        }
      ]
    },
    {
      "cell_type": "code",
      "source": [
        "# 모델이 잘 저장되었는지 확인하기\n",
        "!ls -l models/ECFP_absmax_model.pth"
      ],
      "metadata": {
        "colab": {
          "base_uri": "https://localhost:8080/"
        },
        "id": "eimYWI522BWu",
        "outputId": "3478cf84-4c41-4b0d-ee22-0ba05fff091c"
      },
      "execution_count": null,
      "outputs": [
        {
          "output_type": "stream",
          "name": "stdout",
          "text": [
            "-rw-r--r-- 1 root root 1552316 Mar  4 13:37 models/ECFP_absmax_model.pth\n"
          ]
        }
      ]
    },
    {
      "cell_type": "code",
      "source": [
        "# 모델의 구조를 알도록 정의한 모델을 생성한다.\n",
        "loaded_model = CustomModel()\n",
        "\n",
        "# 다음 행에서 학습된 모델의 파라미터를 모델이 저장된 경로에서 불러온다.\n",
        "loaded_model.load_state_dict(torch.load(f=MODEL_SAVE_PATH))"
      ],
      "metadata": {
        "colab": {
          "base_uri": "https://localhost:8080/"
        },
        "id": "V3TKDe5c2GLV",
        "outputId": "a0467854-1c77-4b1e-fd35-17e6b9e12880"
      },
      "execution_count": null,
      "outputs": [
        {
          "output_type": "execute_result",
          "data": {
            "text/plain": [
              "<All keys matched successfully>"
            ]
          },
          "metadata": {},
          "execution_count": 78
        }
      ]
    },
    {
      "cell_type": "code",
      "source": [
        "# 불러온 모델이 잘 예측하는지 테스트 해보자.\n",
        "loaded_model.eval()\n",
        "\n",
        "# 모델 학습 과정에서 예측을 생성할때와 같이 불러온 모델로 예측 생성해보기\n",
        "with torch.inference_mode():\n",
        "    loaded_model_preds = loaded_model(x_test).view(-1).detach().numpy()\n",
        "print(preds[:10])\n",
        "print(loaded_model_preds[:10])"
      ],
      "metadata": {
        "colab": {
          "base_uri": "https://localhost:8080/"
        },
        "id": "drAwGG5H2Ss3",
        "outputId": "af72a35e-2855-414d-e3d3-86d211bd76d7"
      },
      "execution_count": null,
      "outputs": [
        {
          "output_type": "stream",
          "name": "stdout",
          "text": [
            "[574.3458  342.20444 385.28366 594.40924 350.7719  360.46353 492.28763\n",
            " 463.81506 348.9337  623.7233 ]\n",
            "[574.34576 342.20444 385.28366 594.4093  350.77197 360.46353 492.28763\n",
            " 463.81506 348.93372 623.7234 ]\n"
          ]
        }
      ]
    }
  ]
}